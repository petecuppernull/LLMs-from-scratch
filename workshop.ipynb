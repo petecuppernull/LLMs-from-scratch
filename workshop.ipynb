{
 "cells": [
  {
   "cell_type": "code",
   "execution_count": 1,
   "id": "0bd1c4f4-24ee-49fb-aab0-0dd06f9c710b",
   "metadata": {},
   "outputs": [],
   "source": [
    "## Install Pytorch"
   ]
  },
  {
   "cell_type": "code",
   "execution_count": 2,
   "id": "d3719622-b81a-4e0c-ac9f-6d7f9d63058e",
   "metadata": {},
   "outputs": [
    {
     "name": "stdout",
     "output_type": "stream",
     "text": [
      "Requirement already satisfied: torch==2.4.0 in /Users/peter.cuppernull/dn/lib/python3.10/site-packages (2.4.0)\n",
      "Requirement already satisfied: filelock in /Users/peter.cuppernull/dn/lib/python3.10/site-packages (from torch==2.4.0) (3.13.1)\n",
      "Requirement already satisfied: fsspec in /Users/peter.cuppernull/dn/lib/python3.10/site-packages (from torch==2.4.0) (2024.2.0)\n",
      "Requirement already satisfied: networkx in /Users/peter.cuppernull/dn/lib/python3.10/site-packages (from torch==2.4.0) (3.2.1)\n",
      "Requirement already satisfied: sympy in /Users/peter.cuppernull/dn/lib/python3.10/site-packages (from torch==2.4.0) (1.12)\n",
      "Requirement already satisfied: typing-extensions>=4.8.0 in /Users/peter.cuppernull/dn/lib/python3.10/site-packages (from torch==2.4.0) (4.10.0)\n",
      "Requirement already satisfied: jinja2 in /Users/peter.cuppernull/dn/lib/python3.10/site-packages (from torch==2.4.0) (3.1.3)\n",
      "Requirement already satisfied: MarkupSafe>=2.0 in /Users/peter.cuppernull/dn/lib/python3.10/site-packages (from jinja2->torch==2.4.0) (2.1.5)\n",
      "Requirement already satisfied: mpmath>=0.19 in /Users/peter.cuppernull/dn/lib/python3.10/site-packages (from sympy->torch==2.4.0) (1.3.0)\n",
      "Note: you may need to restart the kernel to use updated packages.\n"
     ]
    }
   ],
   "source": [
    "pip install torch==2.4.0"
   ]
  },
  {
   "cell_type": "code",
   "execution_count": 4,
   "id": "998070dd-677f-452f-aa30-ce53c298114c",
   "metadata": {},
   "outputs": [],
   "source": [
    "import torch"
   ]
  },
  {
   "cell_type": "code",
   "execution_count": 5,
   "id": "0854910e-cb46-45f6-ab88-2e0e807517a7",
   "metadata": {},
   "outputs": [
    {
     "name": "stdout",
     "output_type": "stream",
     "text": [
      "one-hot encoding:\n",
      " tensor([[1., 0., 0.],\n",
      "        [0., 1., 0.],\n",
      "        [0., 0., 1.],\n",
      "        [0., 0., 1.]])\n"
     ]
    }
   ],
   "source": [
    "def to_onehot(y, num_classes):\n",
    "    y_onehot = torch.zeros(y.size(0), num_classes)\n",
    "    y_onehot.scatter_(1, y.view(-1, 1).long(), 1).float()\n",
    "    return y_onehot\n",
    "\n",
    "y = torch.tensor([0, 1, 2, 2])\n",
    "\n",
    "y_enc = to_onehot(y, 3)\n",
    "\n",
    "print('one-hot encoding:\\n', y_enc)"
   ]
  },
  {
   "cell_type": "code",
   "execution_count": 6,
   "id": "faf6498b-2cab-41cd-8f33-24445ab2e794",
   "metadata": {},
   "outputs": [
    {
     "data": {
      "text/plain": [
       "tensor([[-0.3000, -0.5000, -0.5000],\n",
       "        [-0.4000, -0.1000, -0.5000],\n",
       "        [-0.3000, -0.9400, -0.5000],\n",
       "        [-0.9900, -0.8800, -0.5000]])"
      ]
     },
     "execution_count": 6,
     "metadata": {},
     "output_type": "execute_result"
    }
   ],
   "source": [
    "Z = torch.tensor( [[-0.3,  -0.5, -0.5],\n",
    "                   [-0.4,  -0.1, -0.5],\n",
    "                   [-0.3,  -0.94, -0.5],\n",
    "                   [-0.99, -0.88, -0.5]])\n",
    "\n",
    "Z"
   ]
  },
  {
   "cell_type": "code",
   "execution_count": 7,
   "id": "1cdf95fb-4ca3-473b-808c-6d81837530f7",
   "metadata": {},
   "outputs": [
    {
     "name": "stdout",
     "output_type": "stream",
     "text": [
      "softmax:\n",
      " tensor([[0.3792, 0.3104, 0.3104],\n",
      "        [0.3072, 0.4147, 0.2780],\n",
      "        [0.4263, 0.2248, 0.3490],\n",
      "        [0.2668, 0.2978, 0.4354]])\n"
     ]
    }
   ],
   "source": [
    "def softmax(z):\n",
    "    return (torch.exp(z.t()) / torch.sum(torch.exp(z), dim=1)).t()\n",
    "\n",
    "smax = softmax(Z)\n",
    "print('softmax:\\n', smax)"
   ]
  },
  {
   "cell_type": "code",
   "execution_count": 8,
   "id": "a0d978e9-6e5f-496a-9179-2fbc434fef34",
   "metadata": {},
   "outputs": [
    {
     "name": "stdout",
     "output_type": "stream",
     "text": [
      "predicted class labels:  tensor([0, 1, 0, 2])\n",
      "true class labels:  tensor([0, 1, 2, 2])\n"
     ]
    }
   ],
   "source": [
    "def to_classlabel(z):\n",
    "    return torch.argmax(z, dim=1)\n",
    "\n",
    "print('predicted class labels: ', to_classlabel(smax))\n",
    "print('true class labels: ', to_classlabel(y_enc))"
   ]
  },
  {
   "cell_type": "code",
   "execution_count": 9,
   "id": "98c26066-fb98-4294-8107-64ec463a2522",
   "metadata": {},
   "outputs": [],
   "source": [
    " tensor3d = torch.tensor([[[1, 2], [3, 4]],\n",
    "                                 [[5, 6], [7, 8]]])"
   ]
  },
  {
   "cell_type": "code",
   "execution_count": 13,
   "id": "5cdd7c17-50d4-4ebe-bb91-f1de537b7fbf",
   "metadata": {},
   "outputs": [],
   "source": [
    "tensor2d = torch.tensor([[1, 2], [3, 4]])"
   ]
  },
  {
   "cell_type": "code",
   "execution_count": 15,
   "id": "eb715ab0-e7a2-4934-b298-f06ed2abd03f",
   "metadata": {},
   "outputs": [
    {
     "data": {
      "text/plain": [
       "torch.Size([2, 2])"
      ]
     },
     "execution_count": 15,
     "metadata": {},
     "output_type": "execute_result"
    }
   ],
   "source": [
    "tensor2d.shape"
   ]
  },
  {
   "cell_type": "code",
   "execution_count": 16,
   "id": "f78da340-894b-425f-be61-6d54cb5da8eb",
   "metadata": {},
   "outputs": [
    {
     "name": "stdout",
     "output_type": "stream",
     "text": [
      "tensor([[ 5, 11],\n",
      "        [11, 25]])\n"
     ]
    }
   ],
   "source": [
    "print(tensor2d.matmul(tensor2d.T))"
   ]
  },
  {
   "cell_type": "code",
   "execution_count": null,
   "id": "e3346827-8bd4-4d17-ab28-c59966e87884",
   "metadata": {},
   "outputs": [],
   "source": [
    "# Code to check the number of trainable parameters of a model you build:\n",
    "\n",
    "num_params = sum(p.numel() for p in model.parameters() if p.requires_grad) print(\"Total number of trainable model parameters:\", num_params)"
   ]
  }
 ],
 "metadata": {
  "kernelspec": {
   "display_name": "dn",
   "language": "python",
   "name": "dn"
  },
  "language_info": {
   "codemirror_mode": {
    "name": "ipython",
    "version": 3
   },
   "file_extension": ".py",
   "mimetype": "text/x-python",
   "name": "python",
   "nbconvert_exporter": "python",
   "pygments_lexer": "ipython3",
   "version": "3.10.0"
  }
 },
 "nbformat": 4,
 "nbformat_minor": 5
}
